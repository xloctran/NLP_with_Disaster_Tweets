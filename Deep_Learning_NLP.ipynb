{
 "cells": [
  {
   "cell_type": "code",
   "execution_count": 1,
   "metadata": {},
   "outputs": [
    {
     "ename": "ModuleNotFoundError",
     "evalue": "No module named 'tensorflow'",
     "output_type": "error",
     "traceback": [
      "\u001b[0;31m---------------------------------------------------------------------------\u001b[0m",
      "\u001b[0;31mModuleNotFoundError\u001b[0m                       Traceback (most recent call last)",
      "\u001b[0;32m<ipython-input-1-7be6687f755e>\u001b[0m in \u001b[0;36m<module>\u001b[0;34m\u001b[0m\n\u001b[1;32m      1\u001b[0m \u001b[0;31m# First we import the required libraries\u001b[0m\u001b[0;34m\u001b[0m\u001b[0;34m\u001b[0m\u001b[0;34m\u001b[0m\u001b[0m\n\u001b[1;32m      2\u001b[0m \u001b[0;34m\u001b[0m\u001b[0m\n\u001b[0;32m----> 3\u001b[0;31m \u001b[0;32mimport\u001b[0m \u001b[0mtensorflow\u001b[0m \u001b[0;32mas\u001b[0m \u001b[0mtf\u001b[0m\u001b[0;34m\u001b[0m\u001b[0;34m\u001b[0m\u001b[0m\n\u001b[0m\u001b[1;32m      4\u001b[0m \u001b[0;32mimport\u001b[0m \u001b[0mrandom\u001b[0m\u001b[0;34m\u001b[0m\u001b[0;34m\u001b[0m\u001b[0m\n\u001b[1;32m      5\u001b[0m \u001b[0;32mimport\u001b[0m \u001b[0mnumpy\u001b[0m \u001b[0;32mas\u001b[0m \u001b[0mnp\u001b[0m\u001b[0;34m\u001b[0m\u001b[0;34m\u001b[0m\u001b[0m\n",
      "\u001b[0;31mModuleNotFoundError\u001b[0m: No module named 'tensorflow'"
     ]
    }
   ],
   "source": [
    "# First we import the required libraries\n",
    "\n",
    "import tensorflow as tf\n",
    "import random\n",
    "import numpy as np\n",
    "import pandas as pd\n",
    "import matplotlib.image  as mpimg\n",
    "import matplotlib.pyplot as plt\n",
    "import io\n",
    "\n",
    "from sklearn.model_selection import train_test_split\n",
    "from sklearn.utils import shuffle\n",
    "from tensorflow.keras.preprocessing.text import Tokenizer\n",
    "from tensorflow.keras.preprocessing.sequence import pad_sequences\n",
    "from tensorflow.keras.utils import to_categorical\n",
    "from tensorflow.keras import regularizers\n",
    "from tensorflow.keras import backend as K \n",
    "K.clear_session()\n",
    "\n",
    "# Check tensorflow version\n",
    "if float(tf.__version__[0]) < 2.0:\n",
    "  print('Updating tensorflow')\n",
    "  !pip install tensorflow==2.0\n",
    "else:\n",
    "  print('Correct version of Tensorflow installed.')"
   ]
  },
  {
   "cell_type": "code",
   "execution_count": null,
   "metadata": {},
   "outputs": [],
   "source": []
  },
  {
   "cell_type": "code",
   "execution_count": 4,
   "metadata": {},
   "outputs": [
    {
     "data": {
      "text/html": [
       "<div>\n",
       "<style scoped>\n",
       "    .dataframe tbody tr th:only-of-type {\n",
       "        vertical-align: middle;\n",
       "    }\n",
       "\n",
       "    .dataframe tbody tr th {\n",
       "        vertical-align: top;\n",
       "    }\n",
       "\n",
       "    .dataframe thead th {\n",
       "        text-align: right;\n",
       "    }\n",
       "</style>\n",
       "<table border=\"1\" class=\"dataframe\">\n",
       "  <thead>\n",
       "    <tr style=\"text-align: right;\">\n",
       "      <th></th>\n",
       "      <th>id</th>\n",
       "      <th>keyword</th>\n",
       "      <th>location</th>\n",
       "      <th>text</th>\n",
       "      <th>target</th>\n",
       "    </tr>\n",
       "  </thead>\n",
       "  <tbody>\n",
       "    <tr>\n",
       "      <th>0</th>\n",
       "      <td>1</td>\n",
       "      <td>NaN</td>\n",
       "      <td>NaN</td>\n",
       "      <td>Our Deeds are the Reason of this #earthquake M...</td>\n",
       "      <td>1</td>\n",
       "    </tr>\n",
       "    <tr>\n",
       "      <th>1</th>\n",
       "      <td>4</td>\n",
       "      <td>NaN</td>\n",
       "      <td>NaN</td>\n",
       "      <td>Forest fire near La Ronge Sask. Canada</td>\n",
       "      <td>1</td>\n",
       "    </tr>\n",
       "    <tr>\n",
       "      <th>2</th>\n",
       "      <td>5</td>\n",
       "      <td>NaN</td>\n",
       "      <td>NaN</td>\n",
       "      <td>All residents asked to 'shelter in place' are ...</td>\n",
       "      <td>1</td>\n",
       "    </tr>\n",
       "    <tr>\n",
       "      <th>3</th>\n",
       "      <td>6</td>\n",
       "      <td>NaN</td>\n",
       "      <td>NaN</td>\n",
       "      <td>13,000 people receive #wildfires evacuation or...</td>\n",
       "      <td>1</td>\n",
       "    </tr>\n",
       "    <tr>\n",
       "      <th>4</th>\n",
       "      <td>7</td>\n",
       "      <td>NaN</td>\n",
       "      <td>NaN</td>\n",
       "      <td>Just got sent this photo from Ruby #Alaska as ...</td>\n",
       "      <td>1</td>\n",
       "    </tr>\n",
       "  </tbody>\n",
       "</table>\n",
       "</div>"
      ],
      "text/plain": [
       "   id keyword location                                               text  \\\n",
       "0   1     NaN      NaN  Our Deeds are the Reason of this #earthquake M...   \n",
       "1   4     NaN      NaN             Forest fire near La Ronge Sask. Canada   \n",
       "2   5     NaN      NaN  All residents asked to 'shelter in place' are ...   \n",
       "3   6     NaN      NaN  13,000 people receive #wildfires evacuation or...   \n",
       "4   7     NaN      NaN  Just got sent this photo from Ruby #Alaska as ...   \n",
       "\n",
       "   target  \n",
       "0       1  \n",
       "1       1  \n",
       "2       1  \n",
       "3       1  \n",
       "4       1  "
      ]
     },
     "execution_count": 4,
     "metadata": {},
     "output_type": "execute_result"
    }
   ],
   "source": [
    "import pandas as pd\n",
    "df = pd.read_csv('train.csv')\n",
    "df.head()"
   ]
  },
  {
   "cell_type": "code",
   "execution_count": 3,
   "metadata": {},
   "outputs": [
    {
     "data": {
      "text/plain": [
       "id          7613\n",
       "keyword     7552\n",
       "location    5080\n",
       "text        7613\n",
       "target      7613\n",
       "dtype: int64"
      ]
     },
     "execution_count": 3,
     "metadata": {},
     "output_type": "execute_result"
    }
   ],
   "source": [
    "df.count()"
   ]
  },
  {
   "cell_type": "code",
   "execution_count": 4,
   "metadata": {},
   "outputs": [],
   "source": [
    "import nltk\n",
    "import string\n",
    "import re\n",
    "ps = nltk.PorterStemmer()\n",
    "stopwords = nltk.corpus.stopwords.words('english')\n",
    "def clean_text_NGram(text):\n",
    "    text = \"\".join([word.lower() for word in text if word not in string.punctuation])\n",
    "    token = re.split('\\W+',text)\n",
    "    text = \" \".join([ps.stem(word) for word in token if word not in stopwords])\n",
    "    return text"
   ]
  },
  {
   "cell_type": "code",
   "execution_count": 5,
   "metadata": {},
   "outputs": [
    {
     "data": {
      "text/html": [
       "<div>\n",
       "<style scoped>\n",
       "    .dataframe tbody tr th:only-of-type {\n",
       "        vertical-align: middle;\n",
       "    }\n",
       "\n",
       "    .dataframe tbody tr th {\n",
       "        vertical-align: top;\n",
       "    }\n",
       "\n",
       "    .dataframe thead th {\n",
       "        text-align: right;\n",
       "    }\n",
       "</style>\n",
       "<table border=\"1\" class=\"dataframe\">\n",
       "  <thead>\n",
       "    <tr style=\"text-align: right;\">\n",
       "      <th></th>\n",
       "      <th>id</th>\n",
       "      <th>keyword</th>\n",
       "      <th>location</th>\n",
       "      <th>text</th>\n",
       "      <th>target</th>\n",
       "      <th>cleaned_text_NGram</th>\n",
       "    </tr>\n",
       "  </thead>\n",
       "  <tbody>\n",
       "    <tr>\n",
       "      <th>0</th>\n",
       "      <td>1</td>\n",
       "      <td>NaN</td>\n",
       "      <td>NaN</td>\n",
       "      <td>Our Deeds are the Reason of this #earthquake M...</td>\n",
       "      <td>1</td>\n",
       "      <td>deed reason earthquak may allah forgiv us</td>\n",
       "    </tr>\n",
       "    <tr>\n",
       "      <th>1</th>\n",
       "      <td>4</td>\n",
       "      <td>NaN</td>\n",
       "      <td>NaN</td>\n",
       "      <td>Forest fire near La Ronge Sask. Canada</td>\n",
       "      <td>1</td>\n",
       "      <td>forest fire near la rong sask canada</td>\n",
       "    </tr>\n",
       "    <tr>\n",
       "      <th>2</th>\n",
       "      <td>5</td>\n",
       "      <td>NaN</td>\n",
       "      <td>NaN</td>\n",
       "      <td>All residents asked to 'shelter in place' are ...</td>\n",
       "      <td>1</td>\n",
       "      <td>resid ask shelter place notifi offic evacu she...</td>\n",
       "    </tr>\n",
       "    <tr>\n",
       "      <th>3</th>\n",
       "      <td>6</td>\n",
       "      <td>NaN</td>\n",
       "      <td>NaN</td>\n",
       "      <td>13,000 people receive #wildfires evacuation or...</td>\n",
       "      <td>1</td>\n",
       "      <td>13000 peopl receiv wildfir evacu order califor...</td>\n",
       "    </tr>\n",
       "    <tr>\n",
       "      <th>4</th>\n",
       "      <td>7</td>\n",
       "      <td>NaN</td>\n",
       "      <td>NaN</td>\n",
       "      <td>Just got sent this photo from Ruby #Alaska as ...</td>\n",
       "      <td>1</td>\n",
       "      <td>got sent photo rubi alaska smoke wildfir pour ...</td>\n",
       "    </tr>\n",
       "  </tbody>\n",
       "</table>\n",
       "</div>"
      ],
      "text/plain": [
       "   id keyword location                                               text  \\\n",
       "0   1     NaN      NaN  Our Deeds are the Reason of this #earthquake M...   \n",
       "1   4     NaN      NaN             Forest fire near La Ronge Sask. Canada   \n",
       "2   5     NaN      NaN  All residents asked to 'shelter in place' are ...   \n",
       "3   6     NaN      NaN  13,000 people receive #wildfires evacuation or...   \n",
       "4   7     NaN      NaN  Just got sent this photo from Ruby #Alaska as ...   \n",
       "\n",
       "   target                                 cleaned_text_NGram  \n",
       "0       1          deed reason earthquak may allah forgiv us  \n",
       "1       1               forest fire near la rong sask canada  \n",
       "2       1  resid ask shelter place notifi offic evacu she...  \n",
       "3       1  13000 peopl receiv wildfir evacu order califor...  \n",
       "4       1  got sent photo rubi alaska smoke wildfir pour ...  "
      ]
     },
     "execution_count": 5,
     "metadata": {},
     "output_type": "execute_result"
    }
   ],
   "source": [
    "df['cleaned_text_NGram']= df['text'].apply(lambda x: clean_text_NGram(x))\n",
    "df.head()"
   ]
  },
  {
   "cell_type": "code",
   "execution_count": 6,
   "metadata": {},
   "outputs": [
    {
     "name": "stdout",
     "output_type": "stream",
     "text": [
      "22700\n"
     ]
    }
   ],
   "source": [
    "# Tokenize text\n",
    "\n",
    "tokenizer = Tokenizer()\n",
    "tokenizer.fit_on_texts(df['text'])\n",
    "word_index = tokenizer.word_index\n",
    "\n",
    "vocab_size=len(word_index)\n",
    "print(vocab_size)\n",
    "#word_index.items()"
   ]
  },
  {
   "cell_type": "code",
   "execution_count": 7,
   "metadata": {},
   "outputs": [
    {
     "name": "stdout",
     "output_type": "stream",
     "text": [
      "All residents asked to 'shelter in place' are being notified by officers. No other evacuation or shelter in place orders are expected\n"
     ]
    },
    {
     "data": {
      "text/plain": [
       "0     57\n",
       "1     32\n",
       "2    112\n",
       "3     57\n",
       "4     72\n",
       "Name: text_len, dtype: int64"
      ]
     },
     "execution_count": 7,
     "metadata": {},
     "output_type": "execute_result"
    }
   ],
   "source": [
    "df['text_len'] = df['text'].apply(lambda x: len(x) - x.count(\" \"))\n",
    "print(df['text'][2])\n",
    "df['text_len'].head()"
   ]
  },
  {
   "cell_type": "code",
   "execution_count": 8,
   "metadata": {},
   "outputs": [
    {
     "name": "stdout",
     "output_type": "stream",
     "text": [
      "sequences:  [[119, 4633, 24, 4, 868, 8, 21, 263, 138, 1619, 4634, 89, 40], [189, 45, 229, 799, 6954, 6955, 1404], [40, 1751, 1620, 7, 6956, 6, 6957, 24, 136, 6958, 20, 1752, 39, 441, 256, 57, 2158, 6, 714, 1405, 24, 1106], [835, 2921, 59, 4635, 1500, 256, 1405, 6, 96], [34, 100, 1221, 21, 320, 22, 6959, 2159, 30, 271, 22, 1500, 6960, 69, 5, 187]]\n",
      "padded:  [[ 119 4633   24    4  868    8   21  263  138 1619 4634   89   40    0\n",
      "     0    0    0    0    0    0    0    0    0    0    0    0    0    0\n",
      "     0    0    0    0]\n",
      " [ 189   45  229  799 6954 6955 1404    0    0    0    0    0    0    0\n",
      "     0    0    0    0    0    0    0    0    0    0    0    0    0    0\n",
      "     0    0    0    0]\n",
      " [  40 1751 1620    7 6956    6 6957   24  136 6958   20 1752   39  441\n",
      "   256   57 2158    6  714 1405   24 1106    0    0    0    0    0    0\n",
      "     0    0    0    0]\n",
      " [ 835 2921   59 4635 1500  256 1405    6   96    0    0    0    0    0\n",
      "     0    0    0    0    0    0    0    0    0    0    0    0    0    0\n",
      "     0    0    0    0]\n",
      " [  34  100 1221   21  320   22 6959 2159   30  271   22 1500 6960   69\n",
      "     5  187    0    0    0    0    0    0    0    0    0    0    0    0\n",
      "     0    0    0    0]]\n"
     ]
    }
   ],
   "source": [
    "# Padding data\n",
    "\n",
    "max_len = 32\n",
    "sequences = tokenizer.texts_to_sequences(df['text'])\n",
    "padded = pad_sequences(sequences, maxlen=max_len, padding='post', truncating='post')\n",
    "print('sequences: ',sequences[0:5])\n",
    "print('padded: ',padded[0:5])"
   ]
  },
  {
   "cell_type": "code",
   "execution_count": 9,
   "metadata": {},
   "outputs": [],
   "source": [
    "split = 0.2\n",
    "split_n = int(round(len(padded)*(1-split),0))\n",
    "\n",
    "train_data = padded[:split_n]\n",
    "train_labels = df['target'].values[:split_n]\n",
    "test_data = padded[split_n:]\n",
    "test_labels = df['target'].values[split_n:]"
   ]
  },
  {
   "cell_type": "code",
   "execution_count": 10,
   "metadata": {},
   "outputs": [
    {
     "name": "stdout",
     "output_type": "stream",
     "text": [
      "200\n"
     ]
    }
   ],
   "source": [
    "# Import tensor representations for words\n",
    "embeddings_index = {};\n",
    "embedding_dim =200\n",
    "with io.open('glove.6B/glove.6B.200d.txt',encoding='utf8') as f:\n",
    "    for line in f:\n",
    "        values = line.split();\n",
    "        word = values[0];\n",
    "        coefs = np.asarray(values[1:], dtype='float32');\n",
    "        embeddings_index[word] = coefs;\n",
    "print(len(coefs))\n",
    "\n",
    "embeddings_matrix = np.zeros((vocab_size+1, embedding_dim));\n",
    "for word, i in word_index.items():\n",
    "    embedding_vector = embeddings_index.get(word);\n",
    "    if embedding_vector is not None:\n",
    "        embeddings_matrix[i] = embedding_vector;"
   ]
  },
  {
   "cell_type": "code",
   "execution_count": 11,
   "metadata": {},
   "outputs": [],
   "source": [
    "# Build the architecture of the model\n",
    "     \n",
    "# model = tf.keras.Sequential([\n",
    "#     tf.keras.layers.Embedding(vocab_size+1,embedding_dim, weights=[embeddings_matrix], trainable=False),\n",
    "#     tf.keras.layers.Dropout(0.2),\n",
    "#     tf.keras.layers.Conv1D(64, 5, activation='relu'),\n",
    "#     tf.keras.layers.MaxPooling1D(pool_size=4),\n",
    "#     tf.keras.layers.LSTM(20, return_sequences=True),\n",
    "#     tf.keras.layers.LSTM(20),\n",
    "#     tf.keras.layers.Dropout(0.2),  \n",
    "#     tf.keras.layers.Dense(512),\n",
    "#     tf.keras.layers.Dropout(0.3),  \n",
    "#     tf.keras.layers.Dense(256),\n",
    "#     tf.keras.layers.Dense(1, activation='sigmoid')\n",
    "# ])\n",
    "\n",
    "\n",
    "model = tf.keras.Sequential([\n",
    "    tf.keras.layers.Embedding(vocab_size+1, embedding_dim, input_length=max_len,weights=[embeddings_matrix], trainable=False),\n",
    "    tf.keras.layers.Bidirectional(tf.keras.layers.LSTM(16,return_sequences=True)),\n",
    "    tf.keras.layers.Bidirectional(tf.keras.layers.LSTM(8)),\n",
    "    #tf.keras.layers.Dropout(0.1),\n",
    "    tf.keras.layers.Flatten(),\n",
    "    tf.keras.layers.Dense(4, activation='relu'),\n",
    "    tf.keras.layers.Dropout(0.15),\n",
    "    tf.keras.layers.Dense(1, activation='sigmoid')\n",
    "])\n"
   ]
  },
  {
   "cell_type": "code",
   "execution_count": 12,
   "metadata": {},
   "outputs": [
    {
     "name": "stdout",
     "output_type": "stream",
     "text": [
      "Model: \"sequential\"\n",
      "_________________________________________________________________\n",
      "Layer (type)                 Output Shape              Param #   \n",
      "=================================================================\n",
      "embedding (Embedding)        (None, 32, 200)           4540200   \n",
      "_________________________________________________________________\n",
      "bidirectional (Bidirectional (None, 32, 32)            27776     \n",
      "_________________________________________________________________\n",
      "bidirectional_1 (Bidirection (None, 16)                2624      \n",
      "_________________________________________________________________\n",
      "flatten (Flatten)            (None, 16)                0         \n",
      "_________________________________________________________________\n",
      "dense (Dense)                (None, 4)                 68        \n",
      "_________________________________________________________________\n",
      "dropout (Dropout)            (None, 4)                 0         \n",
      "_________________________________________________________________\n",
      "dense_1 (Dense)              (None, 1)                 5         \n",
      "=================================================================\n",
      "Total params: 4,570,673\n",
      "Trainable params: 30,473\n",
      "Non-trainable params: 4,540,200\n",
      "_________________________________________________________________\n",
      "Train on 6090 samples, validate on 1523 samples\n",
      "Epoch 1/20\n",
      "6090/6090 [==============================] - 10s 2ms/sample - loss: 0.6046 - accuracy: 0.6818 - val_loss: 0.5057 - val_accuracy: 0.7800\n",
      "Epoch 2/20\n",
      "6090/6090 [==============================] - 5s 838us/sample - loss: 0.4986 - accuracy: 0.7846 - val_loss: 0.4598 - val_accuracy: 0.7892\n",
      "Epoch 3/20\n",
      "6090/6090 [==============================] - 5s 834us/sample - loss: 0.4614 - accuracy: 0.8095 - val_loss: 0.4257 - val_accuracy: 0.8116\n",
      "Epoch 4/20\n",
      "6090/6090 [==============================] - 5s 834us/sample - loss: 0.4365 - accuracy: 0.8240 - val_loss: 0.4144 - val_accuracy: 0.8188\n",
      "Epoch 5/20\n",
      "6090/6090 [==============================] - 5s 849us/sample - loss: 0.4244 - accuracy: 0.8307 - val_loss: 0.4188 - val_accuracy: 0.8168\n",
      "Epoch 6/20\n",
      "6090/6090 [==============================] - 5s 854us/sample - loss: 0.4154 - accuracy: 0.8338 - val_loss: 0.4074 - val_accuracy: 0.8175\n",
      "Epoch 7/20\n",
      "6090/6090 [==============================] - 5s 859us/sample - loss: 0.4039 - accuracy: 0.8407 - val_loss: 0.4248 - val_accuracy: 0.8063\n",
      "Epoch 8/20\n",
      "6090/6090 [==============================] - 5s 868us/sample - loss: 0.3855 - accuracy: 0.8475 - val_loss: 0.4085 - val_accuracy: 0.8102\n",
      "Epoch 9/20\n",
      "6090/6090 [==============================] - 5s 873us/sample - loss: 0.3728 - accuracy: 0.8583 - val_loss: 0.4182 - val_accuracy: 0.8116\n",
      "Epoch 10/20\n",
      "6090/6090 [==============================] - 5s 875us/sample - loss: 0.3613 - accuracy: 0.8672 - val_loss: 0.4142 - val_accuracy: 0.8102\n",
      "Epoch 11/20\n",
      "6090/6090 [==============================] - 5s 882us/sample - loss: 0.3483 - accuracy: 0.8716 - val_loss: 0.4279 - val_accuracy: 0.8056\n",
      "Epoch 12/20\n",
      "6090/6090 [==============================] - 5s 888us/sample - loss: 0.3396 - accuracy: 0.8737 - val_loss: 0.4294 - val_accuracy: 0.8011\n",
      "Epoch 13/20\n",
      "6090/6090 [==============================] - 5s 894us/sample - loss: 0.3309 - accuracy: 0.8780 - val_loss: 0.4472 - val_accuracy: 0.8109\n",
      "Epoch 14/20\n",
      "6090/6090 [==============================] - 5s 899us/sample - loss: 0.3180 - accuracy: 0.8870 - val_loss: 0.4571 - val_accuracy: 0.8050\n",
      "Epoch 15/20\n",
      "6090/6090 [==============================] - 5s 902us/sample - loss: 0.3049 - accuracy: 0.8964 - val_loss: 0.4424 - val_accuracy: 0.7971\n",
      "Epoch 16/20\n",
      "6090/6090 [==============================] - 6s 910us/sample - loss: 0.2901 - accuracy: 0.8992 - val_loss: 0.4517 - val_accuracy: 0.8011\n",
      "Epoch 17/20\n",
      "6090/6090 [==============================] - 6s 909us/sample - loss: 0.2839 - accuracy: 0.9028 - val_loss: 0.4670 - val_accuracy: 0.8050\n",
      "Epoch 18/20\n",
      "6090/6090 [==============================] - 6s 913us/sample - loss: 0.2738 - accuracy: 0.9069 - val_loss: 0.5080 - val_accuracy: 0.7886\n",
      "Epoch 19/20\n",
      "6090/6090 [==============================] - 6s 910us/sample - loss: 0.2541 - accuracy: 0.9167 - val_loss: 0.4862 - val_accuracy: 0.8017\n",
      "Epoch 20/20\n",
      "6090/6090 [==============================] - 6s 914us/sample - loss: 0.2487 - accuracy: 0.9213 - val_loss: 0.5001 - val_accuracy: 0.7971\n",
      "Training Complete\n"
     ]
    }
   ],
   "source": [
    "model.compile(loss='binary_crossentropy',optimizer='adam',metrics=['accuracy'])\n",
    "model.summary()\n",
    "\n",
    "history = model.fit(train_data, train_labels, epochs=20, batch_size=100, validation_data=[test_data, test_labels])\n",
    "\n",
    "print(\"Training Complete\")"
   ]
  },
  {
   "cell_type": "code",
   "execution_count": 13,
   "metadata": {},
   "outputs": [
    {
     "data": {
      "image/png": "[encoded data removed]",
      "text/plain": [
       "<Figure size 432x288 with 1 Axes>"
      ]
     },
     "metadata": {
      "needs_background": "light"
     },
     "output_type": "display_data"
    },
    {
     "data": {
      "image/png": "[encoded data removed]",
      "text/plain": [
       "<Figure size 432x288 with 1 Axes>"
      ]
     },
     "metadata": {
      "needs_background": "light"
     },
     "output_type": "display_data"
    }
   ],
   "source": [
    "# Visualize the results:\n",
    "\n",
    "plt.plot(history.history['accuracy'])\n",
    "plt.plot(history.history['val_accuracy'])\n",
    "plt.title('Model accuracy')\n",
    "plt.ylabel('Accuracy')\n",
    "plt.xlabel('Epoch')\n",
    "plt.legend(['Train', 'Test'], loc='upper left')\n",
    "plt.savefig('accuracy.png')\n",
    "plt.show()\n",
    "\n",
    "\n",
    "plt.plot(history.history['loss'])\n",
    "plt.plot(history.history['val_loss'])\n",
    "plt.title('Model loss')\n",
    "plt.ylabel('Loss')\n",
    "plt.xlabel('Epoch')\n",
    "plt.legend(['Train', 'Test'], loc='upper right')\n",
    "plt.savefig('loss.png')\n",
    "plt.show()\n"
   ]
  },
  {
   "cell_type": "code",
   "execution_count": 39,
   "metadata": {},
   "outputs": [],
   "source": [
    "# create a script to make analysis for the output. \n",
    "import numpy as np\n",
    "n = 100\n",
    "X_test = list(df.head(100)['text'])\n",
    "preds = preds = [np.random.binomial(1, 0.4) for i in range(100)]\n",
    "y_test = preds = [np.random.binomial(1, 0.3) for i in range(100)]\n",
    "\n"
   ]
  },
  {
   "cell_type": "code",
   "execution_count": 66,
   "metadata": {
    "scrolled": true
   },
   "outputs": [
    {
     "name": "stdout",
     "output_type": "stream",
     "text": [
      "              precision    recall  f1-score   support\n",
      "\n",
      "           0       1.00      1.00      1.00        70\n",
      "           1       1.00      1.00      1.00        30\n",
      "\n",
      "    accuracy                           1.00       100\n",
      "   macro avg       1.00      1.00      1.00       100\n",
      "weighted avg       1.00      1.00      1.00       100\n",
      "\n",
      "[[70  0]\n",
      " [ 0 30]]\n"
     ]
    }
   ],
   "source": [
    "#Extract instances for different groups through the classifier.\n",
    "false_negative = [X_test[i] for i in range(len(X_test)) if (preds[i]==1) & (y_test[i]==0)]\n",
    "false_positive = [X_test[i] for i in range(len(X_test)) if (preds[i]==0) & (y_test[i]==1)]\n",
    "true_negative = [X_test[i] for i in range(len(X_test)) if (preds[i]==0) & (y_test[i]==0)]\n",
    "true_positive = [X_test[i] for i in range(len(X_test)) if (preds[i]==0) & (y_test[i]==0)]\n",
    "# Confusion matrix\n",
    "from sklearn.metrics import classification_report, confusion_matrix\n",
    "print(classification_report(y_test, preds))\n",
    "print(confusion_matrix(y_test, preds))"
   ]
  },
  {
   "cell_type": "code",
   "execution_count": null,
   "metadata": {},
   "outputs": [],
   "source": [
    "#Print different classes"
   ]
  },
  {
   "cell_type": "code",
   "execution_count": 62,
   "metadata": {},
   "outputs": [],
   "source": [
    "#print histogram of len\n",
    "def histoprint(List, name=None):\n",
    "    import matplotlib.pyplot as plt\n",
    "    from statistics import mean\n",
    "    fig, (ax1, ax2, ax3) = plt.subplots(1, 3, figsize = (10, 5))\n",
    "    ccount = [len(x) for x in List]\n",
    "    ax1.hist(ccount,color = 'red')\n",
    "    ax1.set_title('Character count of {}'.format(name))\n",
    "    wcount = [len(x.split()) for x in List]\n",
    "    ax2.hist(wcount,color = 'blue')\n",
    "    ax2.set_title('Word count of {}'.format(name))\n",
    "    avlen = [ round(mean([len(y) for y in x.split()])) for x in List]\n",
    "    ax3.hist(avlen,color = 'green')\n",
    "    ax3.set_title('Averange word lengh of {}'.format(name))\n",
    "    plt.show()\n",
    "    return ax1, ax2, ax3"
   ]
  },
  {
   "cell_type": "code",
   "execution_count": null,
   "metadata": {},
   "outputs": [],
   "source": []
  },
  {
   "cell_type": "code",
   "execution_count": 63,
   "metadata": {},
   "outputs": [
    {
     "data": {
      "image/png": "[encoded data removed]",
      "text/plain": [
       "<Figure size 720x360 with 3 Axes>"
      ]
     },
     "metadata": {
      "needs_background": "light"
     },
     "output_type": "display_data"
    },
    {
     "data": {
      "text/plain": [
       "(<matplotlib.axes._subplots.AxesSubplot at 0x7f83d80d7a90>,\n",
       " <matplotlib.axes._subplots.AxesSubplot at 0x7f83d81a71d0>,\n",
       " <matplotlib.axes._subplots.AxesSubplot at 0x7f83d81e7400>)"
      ]
     },
     "execution_count": 63,
     "metadata": {},
     "output_type": "execute_result"
    }
   ],
   "source": [
    "histoprint(X_test, name='all')"
   ]
  },
  {
   "cell_type": "code",
   "execution_count": null,
   "metadata": {},
   "outputs": [],
   "source": [
    "#Most common words\n",
    "##First, create a corpus for the whole sets\n",
    "\n",
    "##Second, for each class, loop through all instances to count the corpus vector.\n",
    "##Third, for each class display n most common words, and the number of occurance for each of these words."
   ]
  },
  {
   "cell_type": "code",
   "execution_count": null,
   "metadata": {},
   "outputs": [],
   "source": [
    "#PCA or tSNE"
   ]
  }
 ],
 "metadata": {
  "kernelspec": {
   "display_name": "my-virtualenv-name",
   "language": "python",
   "name": "my-virtualenv-name"
  },
  "language_info": {
   "codemirror_mode": {
    "name": "ipython",
    "version": 3
   },
   "file_extension": ".py",
   "mimetype": "text/x-python",
   "name": "python",
   "nbconvert_exporter": "python",
   "pygments_lexer": "ipython3",
   "version": "3.6.9"
  }
 },
 "nbformat": 4,
 "nbformat_minor": 2
}
